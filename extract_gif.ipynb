{
 "cells": [
  {
   "cell_type": "code",
   "execution_count": 7,
   "id": "8d69d6f2-a7dd-4ebf-bc9c-31c0c473ccdc",
   "metadata": {
    "tags": []
   },
   "outputs": [],
   "source": [
    "#Importing the necessary libraries\n",
    "import os\n",
    "from os import walk\n",
    "from tqdm import tqdm\n",
    "from datetime import datetime\n",
    "import multiprocessing as mp\n",
    "import shutil"
   ]
  },
  {
   "cell_type": "code",
   "execution_count": 11,
   "id": "e58fb90e-a36a-45a0-8a23-a3ff528d3e80",
   "metadata": {
    "tags": []
   },
   "outputs": [],
   "source": [
    "# Define a helper function that takes a subdirectory name and returns the image and label\n",
    "dest_dir = \"C:/Users/AEppl/Downloads\"\n",
    "source_dir = \"/pfs/work7/workspace/scratch/oy0026-DDE2_droplet/RENDER/\"\n",
    "\n",
    "# Create the destination directory if it does not exist\n",
    "if not os.path.exists(dest_dir):\n",
    "    os.makedirs(dest_dir)\n",
    "    \n",
    "def process_subdirectory(path):\n",
    "\n",
    "    obj_path = path[0]\n",
    "    subdirectory = path[1]\n",
    "    for filename in os.listdir(obj_path+'/'+subdirectory):\n",
    "        file_path = os.path.join(obj_path+'/'+subdirectory,filename)\n",
    "        if filename == '0_0_00.png':        \n",
    "            # Create a new file name with a prefix\n",
    "            new_file = f\"{subdirectory}.png\"\n",
    "            # Join the new file name with the destination directory path\n",
    "            dest_file = os.path.join(dest_dir, new_file)\n",
    "            # Copy and rename the file to the destination directory\n",
    "            shutil.copy2(file_path, dest_file)\n",
    "            break\n",
    "\n",
    "# Creating a function to read the images from the files:\n",
    "def copy_images(obj_path):      \n",
    "    # Create a pool \n",
    "    pool = mp.Pool(mp.cpu_count())\n",
    "    print(f\"Using all {mp.cpu_count()} processor cores to parallelize task.\")\n",
    "    # Use imap to apply your function to each subdirectory and get an iterator of results\n",
    "    subdirs = os.listdir(obj_path)\n",
    "    res = tqdm(pool.imap(process_subdirectory, zip([obj_path] * len(subdirs), subdirs)), total = len(subdirs))"
   ]
  },
  {
   "cell_type": "code",
   "execution_count": 12,
   "id": "e2650451-3470-4542-9bce-e845130d5369",
   "metadata": {
    "tags": []
   },
   "outputs": [
    {
     "name": "stdout",
     "output_type": "stream",
     "text": [
      "Using all 80 processor cores to parallelize task.\n"
     ]
    },
    {
     "name": "stderr",
     "output_type": "stream",
     "text": [
      "  0%|          | 0/1479 [00:00<?, ?it/s]\n"
     ]
    }
   ],
   "source": [
    "# Reading the images\n",
    "copy_images('/pfs/work7/workspace/scratch/oy0026-DDE2_droplet/RENDER/')"
   ]
  },
  {
   "cell_type": "code",
   "execution_count": null,
   "id": "70ca6c41-1083-459e-b7d8-d882011263f7",
   "metadata": {},
   "outputs": [],
   "source": []
  }
 ],
 "metadata": {
  "kernelspec": {
   "display_name": "Python 3 (ipykernel)",
   "language": "python",
   "name": "python3"
  },
  "language_info": {
   "codemirror_mode": {
    "name": "ipython",
    "version": 3
   },
   "file_extension": ".py",
   "mimetype": "text/x-python",
   "name": "python",
   "nbconvert_exporter": "python",
   "pygments_lexer": "ipython3",
   "version": "3.9.7"
  }
 },
 "nbformat": 4,
 "nbformat_minor": 5
}
